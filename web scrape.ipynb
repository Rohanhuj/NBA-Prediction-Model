{
 "cells": [
  {
   "cell_type": "code",
   "execution_count": null,
   "id": "aef4176c",
   "metadata": {},
   "outputs": [],
   "source": [
    "import pandas as pd\n",
    "import requests\n",
    "pd.set_option('display.max_columns', None)\n",
    "import time\n",
    "import numpy as np\n",
    "from bs4 import BeautifulSoup\n",
    "from selenium import webdriver\n",
    "from selenium.webdriver.support.ui import Select\n",
    "from selenium.webdriver.support.ui import WebDriverWait\n",
    "from selenium.webdriver.support import expected_conditions as EC\n",
    "from selenium.webdriver.common.by import By\n",
    "import re\n",
    "import datetime\n",
    "import pickle\n",
    "import json\n",
    "import collections\n",
    "import itertools"
   ]
  },
  {
   "cell_type": "code",
   "execution_count": null,
   "id": "f1603ae8",
   "metadata": {},
   "outputs": [],
   "source": [
    "df = pd.read_excel(\"stats2022-2023REG.xlsx\")\n",
    "df"
   ]
  },
  {
   "cell_type": "code",
   "execution_count": null,
   "id": "350c8019",
   "metadata": {},
   "outputs": [],
   "source": [
    "team_list = list(df.Team.unique())\n",
    "team_list = ['BRK' if item == 'BKN' else item for item in team_list]\n",
    "team_list = ['CHO' if item == 'CHA' else item for item in team_list]\n",
    "team_list = ['PHO' if item == 'PHX' else item for item in team_list]\n",
    "team_list"
   ]
  },
  {
   "cell_type": "code",
   "execution_count": null,
   "id": "98098c50",
   "metadata": {},
   "outputs": [],
   "source": [
    "number = 1\n",
    "driver = webdriver.Firefox()\n",
    "\n",
    "power_rankings = {}\n",
    "\n",
    "while(number <= 13):\n",
    "    if(number == 2):\n",
    "        url = 'https://www.nba.com/news/power-rankings-week-2-2'\n",
    "    elif(number == 4 or number == 5):\n",
    "        url = f\"https://www.nba.com/news/power-rankings-week-{number}-la-clippers\"\n",
    "    elif(number == 6 or number == 8):\n",
    "        url = f\"https://www.nba.com/news/power-rankings-week-{number}-golden-state-warriors-cleveland-cavaliers\"\n",
    "    elif(number == 7):\n",
    "        url = \"https://www.nba.com/news/power-rankings-week-7-golden-state-warriors-san-antonio-spurs\"\n",
    "    elif(number == 9):\n",
    "        url = \"https://www.nba.com/news/power-rankings-week-9-houston-rockets-utah-jazz\"\n",
    "    elif(number == 10 or number == 11):\n",
    "        url = f\"https://www.nba.com/news/power-rankings-week-{number}-cleveland-cavaliers-golden-state-warriors\"\n",
    "    elif(number == 12):\n",
    "        url = \"https://www.nba.com/news/power-rankings-week-12-san-antonio-spurs-houston-rockets\"\n",
    "    else: \n",
    "        url = f\"https://www.nba.com/news/power-rankings-week-{number}\"\n",
    "    driver.get(url)\n",
    "    src = driver.page_source\n",
    "    parser = BeautifulSoup(src, \"lxml\")\n",
    "    ranks = parser.find_all(\"div\", attrs = {\"class\": \"ArticlePowerRankings_prTop__UrGiu\"})\n",
    "    published = parser.find('time', attrs = {\"class\": \"ArticleHeader_ahDate__J3fwr\"})\n",
    "    time = published.contents[0]\n",
    "    a_list = []\n",
    "    for rank in ranks:\n",
    "        a_tag = rank.find('a', href=True) \n",
    "        a_list.append(a_tag['href'])\n",
    "    if('Updated on' in published.contents[0]):\n",
    "        published.contents[0] = published.contents[0].replace('Updated on ', '')\n",
    "    form = \"%B %d, %Y %I:%M %p\"\n",
    "    new_date = datetime.datetime.strptime(published.contents[0], form).date()\n",
    "    output_form = '%m-%d-%Y'\n",
    "    processed_date = datetime.datetime.strftime(new_date, output_form)\n",
    "    \n",
    "    a_list = ['BRK' if item == '/nets' else item for item in a_list]\n",
    "    a_list = ['CHO' if item == '/hornets/' else item for item in a_list]\n",
    "    a_list = ['PHO' if item == '/suns/' else item for item in a_list]\n",
    "    a_list = ['BOS' if item == '/celtics/' else item for item in a_list]\n",
    "    a_list = ['MIL' if item == '/bucks/' else item for item in a_list]\n",
    "    a_list = ['DEN' if item == '/nuggets/' else item for item in a_list]\n",
    "    a_list = ['PHI' if item == '/sixers/' else item for item in a_list]\n",
    "    a_list = ['CLE' if item == '/cavaliers' else item for item in a_list]\n",
    "    a_list = ['MEM' if item == '/grizzlies/' else item for item in a_list]\n",
    "    a_list = ['SAC' if item == '/kings' else item for item in a_list]\n",
    "    a_list = ['NYK' if item == '/knicks/' else item for item in a_list]\n",
    "    a_list = ['GSW' if item == '/warriors' else item for item in a_list]\n",
    "    a_list = ['LAC' if item == '/clippers/' else item for item in a_list]\n",
    "    a_list = ['LAL' if item == 'http://nba.com/lakers' else item for item in a_list]\n",
    "    a_list = ['MIA' if item == '/heat/' else item for item in a_list]\n",
    "    a_list = ['NOP' if item == '/pelicans' else item for item in a_list]\n",
    "    a_list = ['OKC' if item == '/thunder' else item for item in a_list]\n",
    "    a_list = ['MIN' if item == '/timberwolves' else item for item in a_list]\n",
    "    a_list = ['CHI' if item == '/bulls' else item for item in a_list]\n",
    "    a_list = ['TOR' if item == '/raptors/' else item for item in a_list]\n",
    "    a_list = ['ATL' if item == '/hawks/' else item for item in a_list]\n",
    "    a_list = ['DAL' if item == 'https://www.mavs.com' else item for item in a_list]\n",
    "    a_list = ['UTA' if item == '/jazz/' else item for item in a_list]\n",
    "    a_list = ['ORL' if item == '/magic' else item for item in a_list]\n",
    "    a_list = ['WAS' if item == '/wizards' else item for item in a_list]\n",
    "    a_list = ['IND' if item == '/pacers/' else item for item in a_list]\n",
    "    a_list = ['POR' if item == '/blazers/' else item for item in a_list]\n",
    "    a_list = ['HOU' if item == '/rockets' else item for item in a_list]\n",
    "    a_list = ['SAS' if item == '/spurs/' else item for item in a_list]\n",
    "    a_list = ['DET' if item == '/pistons' else item for item in a_list]\n",
    "    \n",
    "    power_rankings[processed_date] = a_list\n",
    "    print('week ' + str(number) + ' done')\n",
    "    \n",
    "    number += 1\n",
    "    \n",
    "    \n",
    "driver.close()\n",
    "    "
   ]
  },
  {
   "cell_type": "code",
   "execution_count": null,
   "id": "70e7761a",
   "metadata": {},
   "outputs": [],
   "source": [
    "with open(\"powerrankings17-18.json\", \"w\") as f:\n",
    "    json.dump(power_rankings, f)\n"
   ]
  },
  {
   "cell_type": "code",
   "execution_count": null,
   "id": "36ac8677",
   "metadata": {},
   "outputs": [],
   "source": [
    "date_dict = {}"
   ]
  },
  {
   "cell_type": "code",
   "execution_count": null,
   "id": "a84c90c7",
   "metadata": {},
   "outputs": [],
   "source": [
    "driver = webdriver.Firefox()\n",
    "start_date = datetime.date(2015, 10, 27)\n",
    "end_date = datetime.date(2016, 4, 14)\n",
    "delta = datetime.timedelta(days = 1)\n",
    "\n",
    "#date_dict = {}\n",
    "\n",
    "while(start_date < end_date):\n",
    "    day2 = str(start_date.day)\n",
    "    month2 = str(start_date.month)\n",
    "    year2 = str(start_date.year)\n",
    "    if(start_date.day < 10):\n",
    "        day2 = \"0\" + day2\n",
    "    if(start_date.month < 10):\n",
    "        month2 = \"0\" + month2\n",
    "\n",
    "    date = '' + month2 + '-' + day2 + '-' + year2  \n",
    "    date_dict[date] = {}\n",
    "\n",
    "    for team in team_list:\n",
    "        url = f\"https://www.basketball-reference.com/boxscores/{year2}{month2}{day2}0{team}.html\"\n",
    "        response = requests.get(url, headers = {'User-agent': 'Mozilla/5.0 (Macintosh; Intel Mac OS X 10_15_5) AppleWebKit/605.1.15 (KHTML, like Gecko) Version/13.1.1 Safari/605.1.15',})\n",
    "        time.sleep(3)\n",
    "        print(url)\n",
    "        if response.status_code == 429:\n",
    "            print(int(response.headers[\"Retry-After\"]))\n",
    "            time.sleep(int(response.headers[\"Retry-After\"]))\n",
    "        try:\n",
    "            response.raise_for_status()\n",
    "        except requests.exceptions.HTTPError as e:\n",
    "            continue\n",
    "\n",
    "        driver.get(url)\n",
    "        print(\"hi\")\n",
    "        time.sleep(8)\n",
    "        src = driver.page_source\n",
    "        soup = BeautifulSoup(src, 'lxml')\n",
    "\n",
    "        tables = soup.find_all('table', {'id': re.compile('box-.*-game-basic')})\n",
    "        advanced = soup.find_all('table', {'id': re.compile('box-.*-game-advanced')})\n",
    "\n",
    "        away = tables[0].get('id')[4:7]\n",
    "\n",
    "        dfs = pd.read_html(str(tables), header=1)\n",
    "        advanced_dfs = pd.read_html(str(advanced), header = 1)\n",
    "\n",
    "        df_away = dfs[0]\n",
    "        df_home = dfs[1]\n",
    "        df_away_advanced = advanced_dfs[0]\n",
    "        df_home_advanced = advanced_dfs[1]\n",
    "\n",
    "        df_away = pd.merge(df_away, df_away_advanced, on = ['Starters', 'MP'])\n",
    "        df_home = pd.merge(df_home, df_home_advanced, on = ['Starters', 'MP'])\n",
    "        \n",
    "        df_away['Home'] = 0\n",
    "        df_home['Home'] = 1\n",
    "\n",
    "        date_dict[date][team] = {}\n",
    "        date_dict[date][away] = {}\n",
    "\n",
    "        date_dict[date][team][away] = df_home\n",
    "        date_dict[date][away][team] = df_away\n",
    "\n",
    "    print(\"day done\")\n",
    "    start_date += delta\n",
    "\n",
    "\n",
    "driver.close()"
   ]
  },
  {
   "cell_type": "code",
   "execution_count": null,
   "id": "8e0ec9f7",
   "metadata": {},
   "outputs": [],
   "source": [
    "date_dict.keys()"
   ]
  },
  {
   "cell_type": "code",
   "execution_count": null,
   "id": "3ea7e059",
   "metadata": {},
   "outputs": [],
   "source": [
    "with open('dict15-16.pkl', 'wb') as f:  # open a text file\n",
    "    pickle.dump(date_dict, f)\n",
    "    f.close()"
   ]
  },
  {
   "cell_type": "code",
   "execution_count": null,
   "id": "30e28461",
   "metadata": {},
   "outputs": [],
   "source": [
    "with open('boxREG.pkl', 'wb') as f:  # open a text file\n",
    "    pickle.dump(teams_dict, f)\n",
    "    f.close()"
   ]
  },
  {
   "cell_type": "code",
   "execution_count": null,
   "id": "57583797",
   "metadata": {},
   "outputs": [],
   "source": [
    "#seasons = ['2012-13', '2013-14', '2014-15', '2015-16','2016-17','2017-18' ,'2018-19' ,'2019-20','2021-22', '2022-23']"
   ]
  },
  {
   "cell_type": "code",
   "execution_count": null,
   "id": "dd54ae07",
   "metadata": {},
   "outputs": [],
   "source": [
    "#for season in seasons:\n",
    "    #print(f\"my name is {season}\")"
   ]
  },
  {
   "cell_type": "code",
   "execution_count": null,
   "id": "8edb883e",
   "metadata": {},
   "outputs": [],
   "source": [
    "#timeout = 25"
   ]
  },
  {
   "cell_type": "code",
   "execution_count": null,
   "id": "b656588a",
   "metadata": {},
   "outputs": [],
   "source": [
    "#driver = webdriver.Firefox()"
   ]
  },
  {
   "cell_type": "code",
   "execution_count": null,
   "id": "80e1e1dd",
   "metadata": {},
   "outputs": [],
   "source": [
    "'''def get_data(seasons):\n",
    "    for season in seasons:\n",
    "        url = f\"https://www.nba.com/stats/teams/misc?Season={season}&SeasonType=Regular+Season\"\n",
    "        driver.get(url)\n",
    "        #element_present = EC.presence_of_element_located((By.XPATH, r\"/html/body/div[1]/div[2]/div[2]/div[3]/section[2]/div/div[2]/div[2]/div[1]/div[3]/div/label/div/select\"))\n",
    "        #WebDriverWait(driver, timeout).until(element_present)\n",
    "        #select = Select(driver.find_element(\"xpath\", r\"/html/body/div[1]/div[2]/div[2]/div[3]/section[2]/div/div[2]/div[2]/div[1]/div[3]/div/label/div/select\"))\n",
    "        #select.select_by_index(0)\n",
    "        src = driver.page_source\n",
    "        parser = BeautifulSoup(src, \"lxml\")\n",
    "        table = parser.find(\"table\", attrs = {\"class\": \"Crom_table__p1iZz\"})\n",
    "        headers = table.findAll('th')\n",
    "        headerlist = [h.text.strip() for h in headers[1:]]\n",
    "        filter_header_list = [a for a in headerlist if not 'RANK' in a]\n",
    "        rows = table.findAll('tr')[1:]\n",
    "        player_stats = [[td.getText().strip() for td in rows[i].findAll('td')[1:]] for i in range(len(rows))]\n",
    "        #filter_header_list = filter_header_list[:-5]\n",
    "        stats = pd.DataFrame(player_stats, columns = filter_header_list)\n",
    "        #pd.DataFrame.to_excel(stats, f\"/home/rohan/python-projects/jupyter/BasketballProject/miscteam{season}REG.xlsx\")\n",
    "        print(season + \" done scraping\")\n",
    "''' "
   ]
  },
  {
   "cell_type": "code",
   "execution_count": null,
   "id": "29b2b240",
   "metadata": {},
   "outputs": [],
   "source": [
    "#get_data(seasons)"
   ]
  },
  {
   "cell_type": "code",
   "execution_count": null,
   "id": "3f70326e",
   "metadata": {},
   "outputs": [],
   "source": []
  }
 ],
 "metadata": {
  "kernelspec": {
   "display_name": "Python 3 (ipykernel)",
   "language": "python",
   "name": "python3"
  },
  "language_info": {
   "codemirror_mode": {
    "name": "ipython",
    "version": 3
   },
   "file_extension": ".py",
   "mimetype": "text/x-python",
   "name": "python",
   "nbconvert_exporter": "python",
   "pygments_lexer": "ipython3",
   "version": "3.10.6"
  }
 },
 "nbformat": 4,
 "nbformat_minor": 5
}
