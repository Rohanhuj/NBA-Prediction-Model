{
 "cells": [
  {
   "cell_type": "code",
   "execution_count": null,
   "id": "18b3bbbe",
   "metadata": {},
   "outputs": [],
   "source": [
    "import pandas as pd\n",
    "pd.set_option('display.max_columns', None)\n",
    "import pickle"
   ]
  },
  {
   "cell_type": "code",
   "execution_count": null,
   "id": "02f95844",
   "metadata": {},
   "outputs": [],
   "source": [
    "df_PO22_23 = pd.read_excel('stats2022-2023PO.xlsx')\n",
    "df_PO21_22 = pd.read_excel('stats2021-2022PO.xlsx')\n",
    "df_PO20_21 = pd.read_excel('stats2020-2021PO.xlsx')\n",
    "df_PO19_20 = pd.read_excel('stats2019-2020PO.xlsx')\n",
    "df_PO18_19 = pd.read_excel('stats2018-2019PO.xlsx')\n",
    "df_PO17_18 = pd.read_excel('stats2017-2018PO.xlsx')\n",
    "df_PO16_17 = pd.read_excel('stats2016-2017PO.xlsx')\n",
    "df_PO15_16 = pd.read_excel('stats2015-2016PO.xlsx')\n",
    "df_PO14_15 = pd.read_excel('stats2014-2015PO.xlsx')\n",
    "df_PO13_14 = pd.read_excel('stats2013-2014PO.xlsx')\n",
    "df_PO12_13 = pd.read_excel('stats2012-2013PO.xlsx')"
   ]
  },
  {
   "cell_type": "code",
   "execution_count": null,
   "id": "cde1cb55",
   "metadata": {},
   "outputs": [],
   "source": [
    "df_PO22_23['season'] = '2022-23'\n",
    "df_PO21_22['season'] = '2021-22'\n",
    "df_PO20_21['season'] = '2020-21'\n",
    "df_PO19_20['season'] = '2019-20'\n",
    "df_PO18_19['season'] = '2018-19'\n",
    "df_PO17_18['season'] = '2017-18'\n",
    "df_PO16_17['season'] = '2016-17'\n",
    "df_PO15_16['season'] = '2015-16'\n",
    "df_PO14_15['season'] = '2014-15'\n",
    "df_PO13_14['season'] = '2013-14'\n",
    "df_PO12_13['season'] = '2012-13'"
   ]
  },
  {
   "cell_type": "code",
   "execution_count": null,
   "id": "31e2bd9c",
   "metadata": {},
   "outputs": [],
   "source": [
    "df_playoffs_player_stats = pd.concat([df_PO22_23, df_PO21_22, df_PO20_21, df_PO19_20, df_PO18_19, df_PO17_18, df_PO16_17, df_PO15_16, df_PO14_15, df_PO13_14, df_PO12_13])"
   ]
  },
  {
   "cell_type": "code",
   "execution_count": null,
   "id": "cb712735",
   "metadata": {},
   "outputs": [],
   "source": [
    "df_playoffs_player_stats['season_type'] = 'PO'"
   ]
  },
  {
   "cell_type": "code",
   "execution_count": null,
   "id": "90e02cd5",
   "metadata": {},
   "outputs": [],
   "source": [
    "df_playoffs_player_stats"
   ]
  },
  {
   "cell_type": "code",
   "execution_count": null,
   "id": "9b217db6",
   "metadata": {},
   "outputs": [],
   "source": [
    "df_REG22_23 = pd.read_excel('stats2022-2023REG.xlsx')\n",
    "df_REG21_22 = pd.read_excel('stats2021-2022REG.xlsx')\n",
    "df_REG20_21 = pd.read_excel('stats2020-2021REG.xlsx')\n",
    "df_REG19_20 = pd.read_excel('stats2019-2020REG.xlsx')\n",
    "df_REG18_19 = pd.read_excel('stats2018-2019REG.xlsx')\n",
    "df_REG17_18 = pd.read_excel('stats2017-2018REG.xlsx')\n",
    "df_REG16_17 = pd.read_excel('stats2016-2017REG.xlsx')\n",
    "df_REG15_16 = pd.read_excel('stats2015-2016REG.xlsx')\n",
    "df_REG14_15 = pd.read_excel('stats2014-2015REG.xlsx')\n",
    "df_REG13_14 = pd.read_excel('stats2013-2014REG.xlsx')\n",
    "df_REG12_13 = pd.read_excel('stats2012-2013REG.xlsx')"
   ]
  },
  {
   "cell_type": "code",
   "execution_count": null,
   "id": "3434557c",
   "metadata": {},
   "outputs": [],
   "source": [
    "df_REG22_23['season'] = '2022-23'\n",
    "df_REG21_22['season'] = '2021-22'\n",
    "df_REG20_21['season'] = '2020-21'\n",
    "df_REG19_20['season'] = '2019-20'\n",
    "df_REG18_19['season'] = '2018-19'\n",
    "df_REG17_18['season'] = '2017-18'\n",
    "df_REG16_17['season'] = '2016-17'\n",
    "df_REG15_16['season'] = '2015-16'\n",
    "df_REG14_15['season'] = '2014-15'\n",
    "df_REG13_14['season'] = '2013-14'\n",
    "df_REG12_13['season'] = '2012-13'"
   ]
  },
  {
   "cell_type": "code",
   "execution_count": null,
   "id": "3a1a11b8",
   "metadata": {},
   "outputs": [],
   "source": [
    "df_reg_player_stats = pd.concat([df_REG22_23, df_REG21_22, df_REG20_21, df_REG19_20, df_REG18_19, df_REG17_18, df_REG16_17, df_REG15_16, df_REG14_15, df_REG13_14, df_REG12_13])"
   ]
  },
  {
   "cell_type": "code",
   "execution_count": null,
   "id": "6281ac79",
   "metadata": {},
   "outputs": [],
   "source": [
    "df_reg_player_stats['season_type'] = 'REG'"
   ]
  },
  {
   "cell_type": "code",
   "execution_count": null,
   "id": "082f6e8e",
   "metadata": {},
   "outputs": [],
   "source": [
    "df_players = pd.concat([df_reg_player_stats, df_playoffs_player_stats])"
   ]
  },
  {
   "cell_type": "code",
   "execution_count": null,
   "id": "725114b9",
   "metadata": {},
   "outputs": [],
   "source": [
    "df_players"
   ]
  },
  {
   "cell_type": "code",
   "execution_count": null,
   "id": "0843ff40",
   "metadata": {},
   "outputs": [],
   "source": [
    "df_PO22_23 = pd.read_excel('statsadv2022-2023PO.xlsx')\n",
    "df_PO21_22 = pd.read_excel('statsadv2021-22PO.xlsx')\n",
    "df_PO20_21 = pd.read_excel('statsadv2020-21PO.xlsx')\n",
    "df_PO19_20 = pd.read_excel('statsadv2019-20PO.xlsx')\n",
    "df_PO18_19 = pd.read_excel('statsadv2018-19PO.xlsx')\n",
    "df_PO17_18 = pd.read_excel('statsadv2017-18PO.xlsx')\n",
    "df_PO16_17 = pd.read_excel('statsadv2016-17PO.xlsx')\n",
    "df_PO15_16 = pd.read_excel('statsadv2015-16PO.xlsx')\n",
    "df_PO14_15 = pd.read_excel('statsadv2014-15PO.xlsx')\n",
    "df_PO13_14 = pd.read_excel('statsadv2013-14PO.xlsx')\n",
    "df_PO12_13 = pd.read_excel('statsadv2012-13PO.xlsx')"
   ]
  },
  {
   "cell_type": "code",
   "execution_count": null,
   "id": "2aa46777",
   "metadata": {},
   "outputs": [],
   "source": [
    "df_PO22_23['season'] = '2022-23'\n",
    "df_PO21_22['season'] = '2021-22'\n",
    "df_PO20_21['season'] = '2020-21'\n",
    "df_PO19_20['season'] = '2019-20'\n",
    "df_PO18_19['season'] = '2018-19'\n",
    "df_PO17_18['season'] = '2017-18'\n",
    "df_PO16_17['season'] = '2016-17'\n",
    "df_PO15_16['season'] = '2015-16'\n",
    "df_PO14_15['season'] = '2014-15'\n",
    "df_PO13_14['season'] = '2013-14'\n",
    "df_PO12_13['season'] = '2012-13'"
   ]
  },
  {
   "cell_type": "code",
   "execution_count": null,
   "id": "a9331498",
   "metadata": {},
   "outputs": [],
   "source": [
    "df_playoffs_player_stats = pd.concat([df_PO22_23, df_PO21_22, df_PO20_21, df_PO19_20, df_PO18_19, df_PO17_18, df_PO16_17, df_PO15_16, df_PO14_15, df_PO13_14, df_PO12_13])"
   ]
  },
  {
   "cell_type": "code",
   "execution_count": null,
   "id": "644ba352",
   "metadata": {},
   "outputs": [],
   "source": [
    "df_playoffs_player_stats['season_type'] = 'PO'"
   ]
  },
  {
   "cell_type": "code",
   "execution_count": null,
   "id": "6b5f4848",
   "metadata": {},
   "outputs": [],
   "source": [
    "df_playoffs_player_stats"
   ]
  },
  {
   "cell_type": "code",
   "execution_count": null,
   "id": "10b3ceae",
   "metadata": {},
   "outputs": [],
   "source": [
    "df_REG22_23 = pd.read_excel('statsadv2022-2023REG.xlsx')\n",
    "df_REG21_22 = pd.read_excel('statsadv2021-22REG.xlsx')\n",
    "df_REG20_21 = pd.read_excel('statsadv2020-21REG.xlsx')\n",
    "df_REG19_20 = pd.read_excel('statsadv2019-20REG.xlsx')\n",
    "df_REG18_19 = pd.read_excel('statsadv2018-19REG.xlsx')\n",
    "df_REG17_18 = pd.read_excel('statsadv2017-18REG.xlsx')\n",
    "df_REG16_17 = pd.read_excel('statsadv2016-17REG.xlsx')\n",
    "df_REG15_16 = pd.read_excel('statsadv2015-16REG.xlsx')\n",
    "df_REG14_15 = pd.read_excel('statsadv2014-15REG.xlsx')\n",
    "df_REG13_14 = pd.read_excel('statsadv2013-14REG.xlsx')\n",
    "df_REG12_13 = pd.read_excel('statsadv2012-13REG.xlsx')"
   ]
  },
  {
   "cell_type": "code",
   "execution_count": null,
   "id": "ea619889",
   "metadata": {},
   "outputs": [],
   "source": [
    "df_REG22_23['season'] = '2022-23'\n",
    "df_REG21_22['season'] = '2021-22'\n",
    "df_REG20_21['season'] = '2020-21'\n",
    "df_REG19_20['season'] = '2019-20'\n",
    "df_REG18_19['season'] = '2018-19'\n",
    "df_REG17_18['season'] = '2017-18'\n",
    "df_REG16_17['season'] = '2016-17'\n",
    "df_REG15_16['season'] = '2015-16'\n",
    "df_REG14_15['season'] = '2014-15'\n",
    "df_REG13_14['season'] = '2013-14'\n",
    "df_REG12_13['season'] = '2012-13'"
   ]
  },
  {
   "cell_type": "code",
   "execution_count": null,
   "id": "07fae32f",
   "metadata": {},
   "outputs": [],
   "source": [
    "df_reg_player_stats = pd.concat([df_REG22_23, df_REG21_22, df_REG20_21, df_REG19_20, df_REG18_19, df_REG17_18, df_REG16_17, df_REG15_16, df_REG14_15, df_REG13_14, df_REG12_13])"
   ]
  },
  {
   "cell_type": "code",
   "execution_count": null,
   "id": "68549d31",
   "metadata": {},
   "outputs": [],
   "source": [
    "df_reg_player_stats['season_type'] = 'REG'"
   ]
  },
  {
   "cell_type": "code",
   "execution_count": null,
   "id": "04131c37",
   "metadata": {},
   "outputs": [],
   "source": [
    "df_players_adv = pd.concat([df_reg_player_stats, df_playoffs_player_stats])\n"
   ]
  },
  {
   "cell_type": "code",
   "execution_count": null,
   "id": "4f91a045",
   "metadata": {},
   "outputs": [],
   "source": [
    "df_players"
   ]
  },
  {
   "cell_type": "code",
   "execution_count": null,
   "id": "1403d7a1",
   "metadata": {},
   "outputs": [],
   "source": [
    "df_players_adv"
   ]
  },
  {
   "cell_type": "code",
   "execution_count": null,
   "id": "264aec47",
   "metadata": {},
   "outputs": [],
   "source": [
    "df_players_adv.rename(columns = {'PLAYER' : 'Player'}, inplace = True)"
   ]
  },
  {
   "cell_type": "code",
   "execution_count": null,
   "id": "5f2c1498",
   "metadata": {},
   "outputs": [],
   "source": [
    "del df_players_adv['TEAM']\n",
    "del df_players_adv['AGE']\n",
    "del df_players_adv['GP']\n",
    "del df_players_adv['W']\n",
    "del df_players_adv['L']\n",
    "del df_players_adv['Unnamed: 0']\n"
   ]
  },
  {
   "cell_type": "code",
   "execution_count": null,
   "id": "36e17c80",
   "metadata": {},
   "outputs": [],
   "source": [
    "df_players_adv"
   ]
  },
  {
   "cell_type": "code",
   "execution_count": null,
   "id": "d8c5dee0",
   "metadata": {},
   "outputs": [],
   "source": [
    "df_players_stats = pd.merge(df_players, df_players_adv, on = [\"Player\", \"season\", \"season_type\"])"
   ]
  },
  {
   "cell_type": "code",
   "execution_count": null,
   "id": "b7213393",
   "metadata": {},
   "outputs": [],
   "source": [
    "df_players_stats"
   ]
  },
  {
   "cell_type": "code",
   "execution_count": null,
   "id": "6333f1d8",
   "metadata": {},
   "outputs": [],
   "source": [
    "raptor = pd.read_csv(\"modern_RAPTOR_by_team.csv\")"
   ]
  },
  {
   "cell_type": "code",
   "execution_count": null,
   "id": "76f0108e",
   "metadata": {},
   "outputs": [],
   "source": [
    "raptor"
   ]
  },
  {
   "cell_type": "code",
   "execution_count": null,
   "id": "3952e10d",
   "metadata": {},
   "outputs": [],
   "source": [
    "curraptor = pd.read_csv(\"latest_RAPTOR_by_team.csv\")"
   ]
  },
  {
   "cell_type": "code",
   "execution_count": null,
   "id": "0f4a8a85",
   "metadata": {},
   "outputs": [],
   "source": [
    "raptor = pd.concat([raptor, curraptor])"
   ]
  },
  {
   "cell_type": "code",
   "execution_count": null,
   "id": "931c8241",
   "metadata": {},
   "outputs": [],
   "source": [
    "raptor"
   ]
  },
  {
   "cell_type": "code",
   "execution_count": null,
   "id": "59f0a1e1",
   "metadata": {},
   "outputs": [],
   "source": [
    "del raptor['team']\n"
   ]
  },
  {
   "cell_type": "code",
   "execution_count": null,
   "id": "91fd0f96",
   "metadata": {},
   "outputs": [],
   "source": [
    "raptor.rename(columns = {'player_name' : 'Player'}, inplace = True)"
   ]
  },
  {
   "cell_type": "code",
   "execution_count": null,
   "id": "091498d8",
   "metadata": {},
   "outputs": [],
   "source": [
    "raptor['season'] = raptor['season'].replace(2014, '2013-14')\n",
    "raptor['season'] = raptor['season'].replace(2015, '2014-15')\n",
    "raptor['season'] = raptor['season'].replace(2016, '2015-16')\n",
    "raptor['season'] = raptor['season'].replace(2017, '2016-17')\n",
    "raptor['season'] = raptor['season'].replace(2018, '2017-18')\n",
    "raptor['season'] = raptor['season'].replace(2019, '2018-19')\n",
    "raptor['season'] = raptor['season'].replace(2020, '2019-20')\n",
    "raptor['season'] = raptor['season'].replace(2021, '2020-21')\n",
    "raptor['season'] = raptor['season'].replace(2022, '2021-22')\n",
    "raptor['season'] = raptor['season'].replace(2023, '2022-23')\n",
    "raptor['season_type'] = raptor['season_type'].replace('RS', 'REG')"
   ]
  },
  {
   "cell_type": "code",
   "execution_count": null,
   "id": "b2aedb82",
   "metadata": {},
   "outputs": [],
   "source": [
    "raptor"
   ]
  },
  {
   "cell_type": "code",
   "execution_count": null,
   "id": "4e9a72f2",
   "metadata": {},
   "outputs": [],
   "source": [
    "df_players_stats = pd.merge(df_players_stats, raptor, on = [\"Player\", \"season\", \"season_type\"])"
   ]
  },
  {
   "cell_type": "code",
   "execution_count": null,
   "id": "d9cf1e09",
   "metadata": {},
   "outputs": [],
   "source": [
    "df_players_stats"
   ]
  },
  {
   "cell_type": "code",
   "execution_count": null,
   "id": "b9d30b2f",
   "metadata": {},
   "outputs": [],
   "source": [
    "season_adv = pd.read_csv(\"/home/rohan/python-projects/jupyter/BasketballProject/season15-16adv.txt\")"
   ]
  },
  {
   "cell_type": "code",
   "execution_count": null,
   "id": "2bc40e24",
   "metadata": {},
   "outputs": [],
   "source": [
    "season_avg = pd.read_csv(\"/home/rohan/python-projects/jupyter/BasketballProject/season15-16.txt\")"
   ]
  },
  {
   "cell_type": "code",
   "execution_count": null,
   "id": "6195aedb",
   "metadata": {},
   "outputs": [],
   "source": [
    "season_adv.drop(['Rk', 'Pos', 'Age', 'G', 'Unnamed: 19', 'OWS', 'DWS', 'WS/48', 'Unnamed: 24', 'OBPM', 'DBPM', 'VORP','WS','Player-additional'], axis = 1, inplace = True)"
   ]
  },
  {
   "cell_type": "code",
   "execution_count": null,
   "id": "b17a293d",
   "metadata": {},
   "outputs": [],
   "source": [
    "season = pd.merge(season_adv, season_avg, on = ['Player'])"
   ]
  },
  {
   "cell_type": "code",
   "execution_count": null,
   "id": "2f75c3c6",
   "metadata": {},
   "outputs": [],
   "source": [
    "df_players_stats = df_players_stats[df_players_stats['season_type'] == 'REG']\n",
    "df_players_stats = df_players_stats[df_players_stats['season'] == '2015-16']"
   ]
  },
  {
   "cell_type": "code",
   "execution_count": null,
   "id": "9a20a3bf",
   "metadata": {},
   "outputs": [],
   "source": [
    "df_players = df_players_stats[['Player', 'OFFRTG', 'DEFRTG', '+/-']]"
   ]
  },
  {
   "cell_type": "code",
   "execution_count": null,
   "id": "a8bf7688",
   "metadata": {},
   "outputs": [],
   "source": [
    "df_players"
   ]
  },
  {
   "cell_type": "code",
   "execution_count": null,
   "id": "57cfe7f5",
   "metadata": {},
   "outputs": [],
   "source": [
    "season_adv"
   ]
  },
  {
   "cell_type": "code",
   "execution_count": null,
   "id": "e5080636",
   "metadata": {},
   "outputs": [],
   "source": [
    "season_avg.drop(['Rk', 'Pos', 'Age', 'G', 'GS', '2PA', '2P', '2P%', 'Player-additional'], axis = 1, inplace = True)"
   ]
  },
  {
   "cell_type": "code",
   "execution_count": null,
   "id": "f4b7a331",
   "metadata": {},
   "outputs": [],
   "source": [
    "season_avg"
   ]
  },
  {
   "cell_type": "code",
   "execution_count": null,
   "id": "5a337401",
   "metadata": {},
   "outputs": [],
   "source": [
    "df = pd.merge(season_avg, season_adv, on = ['Player', 'Tm'])"
   ]
  },
  {
   "cell_type": "code",
   "execution_count": null,
   "id": "f5672c5d",
   "metadata": {},
   "outputs": [],
   "source": [
    "df = pd.merge(df, df_players, on = ['Player'])"
   ]
  },
  {
   "cell_type": "code",
   "execution_count": null,
   "id": "ff2e958c",
   "metadata": {},
   "outputs": [],
   "source": [
    "df.drop(['MP_y', 'PER'], axis = 1, inplace = True)"
   ]
  },
  {
   "cell_type": "code",
   "execution_count": null,
   "id": "aadd3555",
   "metadata": {},
   "outputs": [],
   "source": [
    "df"
   ]
  },
  {
   "cell_type": "code",
   "execution_count": null,
   "id": "415bf7af",
   "metadata": {},
   "outputs": [],
   "source": [
    "df.rename(columns = {'MP_x' : 'MP'}, inplace = True)"
   ]
  },
  {
   "cell_type": "code",
   "execution_count": null,
   "id": "bf6e0e07",
   "metadata": {},
   "outputs": [],
   "source": [
    "pd.DataFrame.to_excel(df, \"totalstats15-16.xlsx\")"
   ]
  },
  {
   "cell_type": "code",
   "execution_count": null,
   "id": "3153143c",
   "metadata": {},
   "outputs": [],
   "source": [
    "df15_16 = pd.read_csv(\"/home/rohan/python-projects/jupyter/BasketballProject/standings15-16.txt\")"
   ]
  },
  {
   "cell_type": "code",
   "execution_count": null,
   "id": "25335818",
   "metadata": {},
   "outputs": [],
   "source": [
    "df15_16"
   ]
  },
  {
   "cell_type": "code",
   "execution_count": null,
   "id": "000548e5",
   "metadata": {},
   "outputs": [],
   "source": [
    "df15_16 = df15_16['Unnamed: 1']"
   ]
  },
  {
   "cell_type": "code",
   "execution_count": null,
   "id": "5e82a6ad",
   "metadata": {},
   "outputs": [],
   "source": [
    "df15_16 = list(df15_16)\n",
    "df15_16"
   ]
  },
  {
   "cell_type": "code",
   "execution_count": null,
   "id": "6c49a284",
   "metadata": {},
   "outputs": [],
   "source": [
    "df15_16.remove('Team')"
   ]
  },
  {
   "cell_type": "code",
   "execution_count": null,
   "id": "d55337d7",
   "metadata": {},
   "outputs": [],
   "source": [
    "df15_16 = ['BRK' if item == 'Brooklyn Nets' else item for item in df15_16]\n",
    "df15_16 = ['CHO' if item == 'Charlotte Hornets' else item for item in df15_16]\n",
    "df15_16 = ['PHO' if item == 'Phoenix Suns' else item for item in df15_16]\n",
    "df15_16 = ['BOS' if item == 'Boston Celtics' else item for item in df15_16]\n",
    "df15_16 = ['MIL' if item == 'Milwaukee Bucks' else item for item in df15_16]\n",
    "df15_16 = ['DEN' if item == 'Denver Nuggets' else item for item in df15_16]\n",
    "df15_16 = ['PHI' if item == 'Philadelphia 76ers' else item for item in df15_16]\n",
    "df15_16 = ['CLE' if item == 'Cleveland Cavaliers' else item for item in df15_16]\n",
    "df15_16 = ['MEM' if item == 'Memphis Grizzlies' else item for item in df15_16]\n",
    "df15_16 = ['SAC' if item == 'Sacramento Kings' else item for item in df15_16]\n",
    "df15_16 = ['NYK' if item == 'New York Knicks' else item for item in df15_16]\n",
    "df15_16 = ['GSW' if item == 'Golden State Warriors' else item for item in df15_16]\n",
    "df15_16 = ['LAC' if item == 'Los Angeles Clippers' else item for item in df15_16]\n",
    "df15_16 = ['LAL' if item == 'Los Angeles Lakers' else item for item in df15_16]\n",
    "df15_16 = ['MIA' if item == 'Miami Heat' else item for item in df15_16]\n",
    "df15_16 = ['NOP' if item == 'New Orleans Pelicans' else item for item in df15_16]\n",
    "df15_16 = ['OKC' if item == 'Oklahoma City Thunder' else item for item in df15_16]\n",
    "df15_16 = ['MIN' if item == 'Minnesota Timberwolves' else item for item in df15_16]\n",
    "df15_16 = ['CHI' if item == 'Chicago Bulls' else item for item in df15_16]\n",
    "df15_16 = ['TOR' if item == 'Toronto Raptors' else item for item in df15_16]\n",
    "df15_16 = ['ATL' if item == 'Atlanta Hawks' else item for item in df15_16]\n",
    "df15_16 = ['DAL' if item == 'Dallas Mavericks' else item for item in df15_16]\n",
    "df15_16 = ['UTA' if item == 'Utah Jazz' else item for item in df15_16]\n",
    "df15_16 = ['ORL' if item == 'Orlando Magic' else item for item in df15_16]\n",
    "df15_16 = ['WAS' if item == 'Washington Wizards' else item for item in df15_16]\n",
    "df15_16 = ['IND' if item == 'Indiana Pacers' else item for item in df15_16]\n",
    "df15_16 = ['POR' if item == 'Portland Trail Blazers' else item for item in df15_16]\n",
    "df15_16 = ['HOU' if item == 'Houston Rockets' else item for item in df15_16]\n",
    "df15_16 = ['SAS' if item == 'San Antonio Spurs' else item for item in df15_16]\n",
    "df15_16 = ['DET' if item == 'Detroit Pistons' else item for item in df15_16]"
   ]
  },
  {
   "cell_type": "code",
   "execution_count": null,
   "id": "3a4ad97e",
   "metadata": {},
   "outputs": [],
   "source": [
    "with open('powerrankings15-16.pkl', 'wb') as f:  # open a text file\n",
    "    pickle.dump(df15_16, f)\n",
    "    f.close()"
   ]
  },
  {
   "cell_type": "code",
   "execution_count": null,
   "id": "fb845baf",
   "metadata": {},
   "outputs": [],
   "source": []
  }
 ],
 "metadata": {
  "kernelspec": {
   "display_name": "Python 3 (ipykernel)",
   "language": "python",
   "name": "python3"
  },
  "language_info": {
   "codemirror_mode": {
    "name": "ipython",
    "version": 3
   },
   "file_extension": ".py",
   "mimetype": "text/x-python",
   "name": "python",
   "nbconvert_exporter": "python",
   "pygments_lexer": "ipython3",
   "version": "3.10.6"
  }
 },
 "nbformat": 4,
 "nbformat_minor": 5
}
