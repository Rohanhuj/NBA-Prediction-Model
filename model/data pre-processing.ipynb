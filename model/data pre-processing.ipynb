{
 "cells": [
  {
   "cell_type": "code",
   "execution_count": 1,
   "id": "18b3bbbe",
   "metadata": {},
   "outputs": [],
   "source": [
    "import pandas as pd\n",
    "pd.set_option('display.max_columns', None)\n",
    "import pickle"
   ]
  },
  {
   "cell_type": "code",
   "execution_count": null,
   "id": "02f95844",
   "metadata": {},
   "outputs": [],
   "source": [
    "df_PO22_23 = pd.read_excel('stats2022-2023PO.xlsx')\n",
    "df_PO21_22 = pd.read_excel('stats2021-2022PO.xlsx')\n",
    "df_PO20_21 = pd.read_excel('stats2020-2021PO.xlsx')\n",
    "df_PO19_20 = pd.read_excel('stats2019-2020PO.xlsx')\n",
    "df_PO18_19 = pd.read_excel('stats2018-2019PO.xlsx')\n",
    "df_PO17_18 = pd.read_excel('stats2017-2018PO.xlsx')\n",
    "df_PO16_17 = pd.read_excel('stats2016-2017PO.xlsx')\n",
    "df_PO15_16 = pd.read_excel('stats2015-2016PO.xlsx')\n",
    "df_PO14_15 = pd.read_excel('stats2014-2015PO.xlsx')\n",
    "df_PO13_14 = pd.read_excel('stats2013-2014PO.xlsx')\n",
    "df_PO12_13 = pd.read_excel('stats2012-2013PO.xlsx')"
   ]
  },
  {
   "cell_type": "code",
   "execution_count": null,
   "id": "cde1cb55",
   "metadata": {},
   "outputs": [],
   "source": [
    "df_PO22_23['season'] = '2022-23'\n",
    "df_PO21_22['season'] = '2021-22'\n",
    "df_PO20_21['season'] = '2020-21'\n",
    "df_PO19_20['season'] = '2019-20'\n",
    "df_PO18_19['season'] = '2018-19'\n",
    "df_PO17_18['season'] = '2017-18'\n",
    "df_PO16_17['season'] = '2016-17'\n",
    "df_PO15_16['season'] = '2015-16'\n",
    "df_PO14_15['season'] = '2014-15'\n",
    "df_PO13_14['season'] = '2013-14'\n",
    "df_PO12_13['season'] = '2012-13'"
   ]
  },
  {
   "cell_type": "code",
   "execution_count": null,
   "id": "31e2bd9c",
   "metadata": {},
   "outputs": [],
   "source": [
    "df_playoffs_player_stats = pd.concat([df_PO22_23, df_PO21_22, df_PO20_21, df_PO19_20, df_PO18_19, df_PO17_18, df_PO16_17, df_PO15_16, df_PO14_15, df_PO13_14, df_PO12_13])"
   ]
  },
  {
   "cell_type": "code",
   "execution_count": null,
   "id": "cb712735",
   "metadata": {},
   "outputs": [],
   "source": [
    "df_playoffs_player_stats['season_type'] = 'PO'"
   ]
  },
  {
   "cell_type": "code",
   "execution_count": null,
   "id": "90e02cd5",
   "metadata": {},
   "outputs": [],
   "source": [
    "df_playoffs_player_stats"
   ]
  },
  {
   "cell_type": "code",
   "execution_count": null,
   "id": "9b217db6",
   "metadata": {},
   "outputs": [],
   "source": [
    "df_REG22_23 = pd.read_excel('stats2022-2023REG.xlsx')\n",
    "df_REG21_22 = pd.read_excel('stats2021-2022REG.xlsx')\n",
    "df_REG20_21 = pd.read_excel('stats2020-2021REG.xlsx')\n",
    "df_REG19_20 = pd.read_excel('stats2019-2020REG.xlsx')\n",
    "df_REG18_19 = pd.read_excel('stats2018-2019REG.xlsx')\n",
    "df_REG17_18 = pd.read_excel('stats2017-2018REG.xlsx')\n",
    "df_REG16_17 = pd.read_excel('stats2016-2017REG.xlsx')\n",
    "df_REG15_16 = pd.read_excel('stats2015-2016REG.xlsx')\n",
    "df_REG14_15 = pd.read_excel('stats2014-2015REG.xlsx')\n",
    "df_REG13_14 = pd.read_excel('stats2013-2014REG.xlsx')\n",
    "df_REG12_13 = pd.read_excel('stats2012-2013REG.xlsx')"
   ]
  },
  {
   "cell_type": "code",
   "execution_count": null,
   "id": "3434557c",
   "metadata": {},
   "outputs": [],
   "source": [
    "df_REG22_23['season'] = '2022-23'\n",
    "df_REG21_22['season'] = '2021-22'\n",
    "df_REG20_21['season'] = '2020-21'\n",
    "df_REG19_20['season'] = '2019-20'\n",
    "df_REG18_19['season'] = '2018-19'\n",
    "df_REG17_18['season'] = '2017-18'\n",
    "df_REG16_17['season'] = '2016-17'\n",
    "df_REG15_16['season'] = '2015-16'\n",
    "df_REG14_15['season'] = '2014-15'\n",
    "df_REG13_14['season'] = '2013-14'\n",
    "df_REG12_13['season'] = '2012-13'"
   ]
  },
  {
   "cell_type": "code",
   "execution_count": null,
   "id": "3a1a11b8",
   "metadata": {},
   "outputs": [],
   "source": [
    "df_reg_player_stats = pd.concat([df_REG22_23, df_REG21_22, df_REG20_21, df_REG19_20, df_REG18_19, df_REG17_18, df_REG16_17, df_REG15_16, df_REG14_15, df_REG13_14, df_REG12_13])"
   ]
  },
  {
   "cell_type": "code",
   "execution_count": null,
   "id": "6281ac79",
   "metadata": {},
   "outputs": [],
   "source": [
    "df_reg_player_stats['season_type'] = 'REG'"
   ]
  },
  {
   "cell_type": "code",
   "execution_count": null,
   "id": "082f6e8e",
   "metadata": {},
   "outputs": [],
   "source": [
    "df_players = pd.concat([df_reg_player_stats, df_playoffs_player_stats])"
   ]
  },
  {
   "cell_type": "code",
   "execution_count": null,
   "id": "725114b9",
   "metadata": {},
   "outputs": [],
   "source": [
    "df_players"
   ]
  },
  {
   "cell_type": "code",
   "execution_count": null,
   "id": "0843ff40",
   "metadata": {},
   "outputs": [],
   "source": [
    "df_PO22_23 = pd.read_excel('statsadv2022-2023PO.xlsx')\n",
    "df_PO21_22 = pd.read_excel('statsadv2021-22PO.xlsx')\n",
    "df_PO20_21 = pd.read_excel('statsadv2020-21PO.xlsx')\n",
    "df_PO19_20 = pd.read_excel('statsadv2019-20PO.xlsx')\n",
    "df_PO18_19 = pd.read_excel('statsadv2018-19PO.xlsx')\n",
    "df_PO17_18 = pd.read_excel('statsadv2017-18PO.xlsx')\n",
    "df_PO16_17 = pd.read_excel('statsadv2016-17PO.xlsx')\n",
    "df_PO15_16 = pd.read_excel('statsadv2015-16PO.xlsx')\n",
    "df_PO14_15 = pd.read_excel('statsadv2014-15PO.xlsx')\n",
    "df_PO13_14 = pd.read_excel('statsadv2013-14PO.xlsx')\n",
    "df_PO12_13 = pd.read_excel('statsadv2012-13PO.xlsx')"
   ]
  },
  {
   "cell_type": "code",
   "execution_count": null,
   "id": "2aa46777",
   "metadata": {},
   "outputs": [],
   "source": [
    "df_PO22_23['season'] = '2022-23'\n",
    "df_PO21_22['season'] = '2021-22'\n",
    "df_PO20_21['season'] = '2020-21'\n",
    "df_PO19_20['season'] = '2019-20'\n",
    "df_PO18_19['season'] = '2018-19'\n",
    "df_PO17_18['season'] = '2017-18'\n",
    "df_PO16_17['season'] = '2016-17'\n",
    "df_PO15_16['season'] = '2015-16'\n",
    "df_PO14_15['season'] = '2014-15'\n",
    "df_PO13_14['season'] = '2013-14'\n",
    "df_PO12_13['season'] = '2012-13'"
   ]
  },
  {
   "cell_type": "code",
   "execution_count": null,
   "id": "a9331498",
   "metadata": {},
   "outputs": [],
   "source": [
    "df_playoffs_player_stats = pd.concat([df_PO22_23, df_PO21_22, df_PO20_21, df_PO19_20, df_PO18_19, df_PO17_18, df_PO16_17, df_PO15_16, df_PO14_15, df_PO13_14, df_PO12_13])"
   ]
  },
  {
   "cell_type": "code",
   "execution_count": null,
   "id": "644ba352",
   "metadata": {},
   "outputs": [],
   "source": [
    "df_playoffs_player_stats['season_type'] = 'PO'"
   ]
  },
  {
   "cell_type": "code",
   "execution_count": null,
   "id": "6b5f4848",
   "metadata": {},
   "outputs": [],
   "source": [
    "df_playoffs_player_stats"
   ]
  },
  {
   "cell_type": "code",
   "execution_count": null,
   "id": "10b3ceae",
   "metadata": {},
   "outputs": [],
   "source": [
    "df_REG22_23 = pd.read_excel('statsadv2022-2023REG.xlsx')\n",
    "df_REG21_22 = pd.read_excel('statsadv2021-22REG.xlsx')\n",
    "df_REG20_21 = pd.read_excel('statsadv2020-21REG.xlsx')\n",
    "df_REG19_20 = pd.read_excel('statsadv2019-20REG.xlsx')\n",
    "df_REG18_19 = pd.read_excel('statsadv2018-19REG.xlsx')\n",
    "df_REG17_18 = pd.read_excel('statsadv2017-18REG.xlsx')\n",
    "df_REG16_17 = pd.read_excel('statsadv2016-17REG.xlsx')\n",
    "df_REG15_16 = pd.read_excel('statsadv2015-16REG.xlsx')\n",
    "df_REG14_15 = pd.read_excel('statsadv2014-15REG.xlsx')\n",
    "df_REG13_14 = pd.read_excel('statsadv2013-14REG.xlsx')\n",
    "df_REG12_13 = pd.read_excel('statsadv2012-13REG.xlsx')"
   ]
  },
  {
   "cell_type": "code",
   "execution_count": null,
   "id": "ea619889",
   "metadata": {},
   "outputs": [],
   "source": [
    "df_REG22_23['season'] = '2022-23'\n",
    "df_REG21_22['season'] = '2021-22'\n",
    "df_REG20_21['season'] = '2020-21'\n",
    "df_REG19_20['season'] = '2019-20'\n",
    "df_REG18_19['season'] = '2018-19'\n",
    "df_REG17_18['season'] = '2017-18'\n",
    "df_REG16_17['season'] = '2016-17'\n",
    "df_REG15_16['season'] = '2015-16'\n",
    "df_REG14_15['season'] = '2014-15'\n",
    "df_REG13_14['season'] = '2013-14'\n",
    "df_REG12_13['season'] = '2012-13'"
   ]
  },
  {
   "cell_type": "code",
   "execution_count": 2,
   "id": "530ef92e-871f-4f6f-8ac6-086540a74b02",
   "metadata": {},
   "outputs": [],
   "source": [
    "df = pd.read_csv(\"totalstats23-24.csv\")"
   ]
  },
  {
   "cell_type": "code",
   "execution_count": 3,
   "id": "a5ae952c-044f-4dbc-bee3-2c1d207adf1d",
   "metadata": {},
   "outputs": [
    {
     "data": {
      "text/html": [
       "<div>\n",
       "<style scoped>\n",
       "    .dataframe tbody tr th:only-of-type {\n",
       "        vertical-align: middle;\n",
       "    }\n",
       "\n",
       "    .dataframe tbody tr th {\n",
       "        vertical-align: top;\n",
       "    }\n",
       "\n",
       "    .dataframe thead th {\n",
       "        text-align: right;\n",
       "    }\n",
       "</style>\n",
       "<table border=\"1\" class=\"dataframe\">\n",
       "  <thead>\n",
       "    <tr style=\"text-align: right;\">\n",
       "      <th></th>\n",
       "      <th>Rk</th>\n",
       "      <th>Player</th>\n",
       "      <th>Age</th>\n",
       "      <th>Team</th>\n",
       "      <th>Pos</th>\n",
       "      <th>G</th>\n",
       "      <th>GS</th>\n",
       "      <th>MP</th>\n",
       "      <th>FG</th>\n",
       "      <th>FGA</th>\n",
       "      <th>FG%</th>\n",
       "      <th>3P</th>\n",
       "      <th>3PA</th>\n",
       "      <th>3P%</th>\n",
       "      <th>2P</th>\n",
       "      <th>2PA</th>\n",
       "      <th>2P%</th>\n",
       "      <th>eFG%</th>\n",
       "      <th>FT</th>\n",
       "      <th>FTA</th>\n",
       "      <th>FT%</th>\n",
       "      <th>ORB</th>\n",
       "      <th>DRB</th>\n",
       "      <th>TRB</th>\n",
       "      <th>AST</th>\n",
       "      <th>STL</th>\n",
       "      <th>BLK</th>\n",
       "      <th>TOV</th>\n",
       "      <th>PF</th>\n",
       "      <th>PTS</th>\n",
       "      <th>Awards</th>\n",
       "      <th>Player-additional</th>\n",
       "    </tr>\n",
       "  </thead>\n",
       "  <tbody>\n",
       "    <tr>\n",
       "      <th>0</th>\n",
       "      <td>1.0</td>\n",
       "      <td>Joel Embiid</td>\n",
       "      <td>29.0</td>\n",
       "      <td>PHI</td>\n",
       "      <td>C</td>\n",
       "      <td>39.0</td>\n",
       "      <td>39.0</td>\n",
       "      <td>33.6</td>\n",
       "      <td>11.5</td>\n",
       "      <td>21.8</td>\n",
       "      <td>0.529</td>\n",
       "      <td>1.4</td>\n",
       "      <td>3.6</td>\n",
       "      <td>0.388</td>\n",
       "      <td>10.2</td>\n",
       "      <td>18.3</td>\n",
       "      <td>0.556</td>\n",
       "      <td>0.561</td>\n",
       "      <td>10.2</td>\n",
       "      <td>11.6</td>\n",
       "      <td>0.883</td>\n",
       "      <td>2.4</td>\n",
       "      <td>8.6</td>\n",
       "      <td>11.0</td>\n",
       "      <td>5.6</td>\n",
       "      <td>1.2</td>\n",
       "      <td>1.7</td>\n",
       "      <td>3.8</td>\n",
       "      <td>2.9</td>\n",
       "      <td>34.7</td>\n",
       "      <td>AS</td>\n",
       "      <td>embiijo01</td>\n",
       "    </tr>\n",
       "    <tr>\n",
       "      <th>1</th>\n",
       "      <td>2.0</td>\n",
       "      <td>Luka Dončić</td>\n",
       "      <td>24.0</td>\n",
       "      <td>DAL</td>\n",
       "      <td>PG</td>\n",
       "      <td>70.0</td>\n",
       "      <td>70.0</td>\n",
       "      <td>37.5</td>\n",
       "      <td>11.5</td>\n",
       "      <td>23.6</td>\n",
       "      <td>0.487</td>\n",
       "      <td>4.1</td>\n",
       "      <td>10.6</td>\n",
       "      <td>0.382</td>\n",
       "      <td>7.4</td>\n",
       "      <td>13.0</td>\n",
       "      <td>0.573</td>\n",
       "      <td>0.573</td>\n",
       "      <td>6.8</td>\n",
       "      <td>8.7</td>\n",
       "      <td>0.786</td>\n",
       "      <td>0.8</td>\n",
       "      <td>8.4</td>\n",
       "      <td>9.2</td>\n",
       "      <td>9.8</td>\n",
       "      <td>1.4</td>\n",
       "      <td>0.5</td>\n",
       "      <td>4.0</td>\n",
       "      <td>2.1</td>\n",
       "      <td>33.9</td>\n",
       "      <td>MVP-3CPOY-6ASNBA1</td>\n",
       "      <td>doncilu01</td>\n",
       "    </tr>\n",
       "    <tr>\n",
       "      <th>2</th>\n",
       "      <td>3.0</td>\n",
       "      <td>Giannis Antetokounmpo</td>\n",
       "      <td>29.0</td>\n",
       "      <td>MIL</td>\n",
       "      <td>PF</td>\n",
       "      <td>73.0</td>\n",
       "      <td>73.0</td>\n",
       "      <td>35.2</td>\n",
       "      <td>11.5</td>\n",
       "      <td>18.8</td>\n",
       "      <td>0.611</td>\n",
       "      <td>0.5</td>\n",
       "      <td>1.7</td>\n",
       "      <td>0.274</td>\n",
       "      <td>11.0</td>\n",
       "      <td>17.1</td>\n",
       "      <td>0.645</td>\n",
       "      <td>0.624</td>\n",
       "      <td>7.0</td>\n",
       "      <td>10.7</td>\n",
       "      <td>0.657</td>\n",
       "      <td>2.7</td>\n",
       "      <td>8.8</td>\n",
       "      <td>11.5</td>\n",
       "      <td>6.5</td>\n",
       "      <td>1.2</td>\n",
       "      <td>1.1</td>\n",
       "      <td>3.4</td>\n",
       "      <td>2.9</td>\n",
       "      <td>30.4</td>\n",
       "      <td>MVP-4DPOY-9CPOY-12ASNBA1</td>\n",
       "      <td>antetgi01</td>\n",
       "    </tr>\n",
       "    <tr>\n",
       "      <th>3</th>\n",
       "      <td>4.0</td>\n",
       "      <td>Shai Gilgeous-Alexander</td>\n",
       "      <td>25.0</td>\n",
       "      <td>OKC</td>\n",
       "      <td>PG</td>\n",
       "      <td>75.0</td>\n",
       "      <td>75.0</td>\n",
       "      <td>34.0</td>\n",
       "      <td>10.6</td>\n",
       "      <td>19.8</td>\n",
       "      <td>0.535</td>\n",
       "      <td>1.3</td>\n",
       "      <td>3.6</td>\n",
       "      <td>0.353</td>\n",
       "      <td>9.3</td>\n",
       "      <td>16.2</td>\n",
       "      <td>0.576</td>\n",
       "      <td>0.567</td>\n",
       "      <td>7.6</td>\n",
       "      <td>8.7</td>\n",
       "      <td>0.874</td>\n",
       "      <td>0.9</td>\n",
       "      <td>4.7</td>\n",
       "      <td>5.5</td>\n",
       "      <td>6.2</td>\n",
       "      <td>2.0</td>\n",
       "      <td>0.9</td>\n",
       "      <td>2.2</td>\n",
       "      <td>2.5</td>\n",
       "      <td>30.1</td>\n",
       "      <td>MVP-2DPOY-7CPOY-3ASNBA1</td>\n",
       "      <td>gilgesh01</td>\n",
       "    </tr>\n",
       "    <tr>\n",
       "      <th>4</th>\n",
       "      <td>5.0</td>\n",
       "      <td>Jalen Brunson</td>\n",
       "      <td>27.0</td>\n",
       "      <td>NYK</td>\n",
       "      <td>PG</td>\n",
       "      <td>77.0</td>\n",
       "      <td>77.0</td>\n",
       "      <td>35.4</td>\n",
       "      <td>10.3</td>\n",
       "      <td>21.4</td>\n",
       "      <td>0.479</td>\n",
       "      <td>2.7</td>\n",
       "      <td>6.8</td>\n",
       "      <td>0.401</td>\n",
       "      <td>7.5</td>\n",
       "      <td>14.6</td>\n",
       "      <td>0.516</td>\n",
       "      <td>0.543</td>\n",
       "      <td>5.5</td>\n",
       "      <td>6.5</td>\n",
       "      <td>0.847</td>\n",
       "      <td>0.6</td>\n",
       "      <td>3.1</td>\n",
       "      <td>3.6</td>\n",
       "      <td>6.7</td>\n",
       "      <td>0.9</td>\n",
       "      <td>0.2</td>\n",
       "      <td>2.4</td>\n",
       "      <td>1.9</td>\n",
       "      <td>28.7</td>\n",
       "      <td>MVP-5CPOY-5ASNBA2</td>\n",
       "      <td>brunsja01</td>\n",
       "    </tr>\n",
       "    <tr>\n",
       "      <th>...</th>\n",
       "      <td>...</td>\n",
       "      <td>...</td>\n",
       "      <td>...</td>\n",
       "      <td>...</td>\n",
       "      <td>...</td>\n",
       "      <td>...</td>\n",
       "      <td>...</td>\n",
       "      <td>...</td>\n",
       "      <td>...</td>\n",
       "      <td>...</td>\n",
       "      <td>...</td>\n",
       "      <td>...</td>\n",
       "      <td>...</td>\n",
       "      <td>...</td>\n",
       "      <td>...</td>\n",
       "      <td>...</td>\n",
       "      <td>...</td>\n",
       "      <td>...</td>\n",
       "      <td>...</td>\n",
       "      <td>...</td>\n",
       "      <td>...</td>\n",
       "      <td>...</td>\n",
       "      <td>...</td>\n",
       "      <td>...</td>\n",
       "      <td>...</td>\n",
       "      <td>...</td>\n",
       "      <td>...</td>\n",
       "      <td>...</td>\n",
       "      <td>...</td>\n",
       "      <td>...</td>\n",
       "      <td>...</td>\n",
       "      <td>...</td>\n",
       "    </tr>\n",
       "    <tr>\n",
       "      <th>731</th>\n",
       "      <td>569.0</td>\n",
       "      <td>Ron Harper Jr.</td>\n",
       "      <td>23.0</td>\n",
       "      <td>TOR</td>\n",
       "      <td>PF</td>\n",
       "      <td>1.0</td>\n",
       "      <td>0.0</td>\n",
       "      <td>4.0</td>\n",
       "      <td>0.0</td>\n",
       "      <td>0.0</td>\n",
       "      <td>NaN</td>\n",
       "      <td>0.0</td>\n",
       "      <td>0.0</td>\n",
       "      <td>NaN</td>\n",
       "      <td>0.0</td>\n",
       "      <td>0.0</td>\n",
       "      <td>NaN</td>\n",
       "      <td>NaN</td>\n",
       "      <td>0.0</td>\n",
       "      <td>0.0</td>\n",
       "      <td>NaN</td>\n",
       "      <td>0.0</td>\n",
       "      <td>0.0</td>\n",
       "      <td>0.0</td>\n",
       "      <td>1.0</td>\n",
       "      <td>0.0</td>\n",
       "      <td>0.0</td>\n",
       "      <td>0.0</td>\n",
       "      <td>2.0</td>\n",
       "      <td>0.0</td>\n",
       "      <td>NaN</td>\n",
       "      <td>harpero02</td>\n",
       "    </tr>\n",
       "    <tr>\n",
       "      <th>732</th>\n",
       "      <td>570.0</td>\n",
       "      <td>Justin Jackson</td>\n",
       "      <td>28.0</td>\n",
       "      <td>MIN</td>\n",
       "      <td>SF</td>\n",
       "      <td>2.0</td>\n",
       "      <td>0.0</td>\n",
       "      <td>0.5</td>\n",
       "      <td>0.0</td>\n",
       "      <td>0.0</td>\n",
       "      <td>NaN</td>\n",
       "      <td>0.0</td>\n",
       "      <td>0.0</td>\n",
       "      <td>NaN</td>\n",
       "      <td>0.0</td>\n",
       "      <td>0.0</td>\n",
       "      <td>NaN</td>\n",
       "      <td>NaN</td>\n",
       "      <td>0.0</td>\n",
       "      <td>0.0</td>\n",
       "      <td>NaN</td>\n",
       "      <td>0.0</td>\n",
       "      <td>0.0</td>\n",
       "      <td>0.0</td>\n",
       "      <td>0.0</td>\n",
       "      <td>0.0</td>\n",
       "      <td>0.0</td>\n",
       "      <td>0.0</td>\n",
       "      <td>0.0</td>\n",
       "      <td>0.0</td>\n",
       "      <td>NaN</td>\n",
       "      <td>jacksju01</td>\n",
       "    </tr>\n",
       "    <tr>\n",
       "      <th>733</th>\n",
       "      <td>571.0</td>\n",
       "      <td>Dmytro Skapintsev</td>\n",
       "      <td>25.0</td>\n",
       "      <td>NYK</td>\n",
       "      <td>C</td>\n",
       "      <td>2.0</td>\n",
       "      <td>0.0</td>\n",
       "      <td>1.0</td>\n",
       "      <td>0.0</td>\n",
       "      <td>0.5</td>\n",
       "      <td>0.000</td>\n",
       "      <td>0.0</td>\n",
       "      <td>0.0</td>\n",
       "      <td>NaN</td>\n",
       "      <td>0.0</td>\n",
       "      <td>0.5</td>\n",
       "      <td>0.000</td>\n",
       "      <td>0.000</td>\n",
       "      <td>0.0</td>\n",
       "      <td>0.0</td>\n",
       "      <td>NaN</td>\n",
       "      <td>0.0</td>\n",
       "      <td>0.0</td>\n",
       "      <td>0.0</td>\n",
       "      <td>0.0</td>\n",
       "      <td>0.0</td>\n",
       "      <td>0.0</td>\n",
       "      <td>0.0</td>\n",
       "      <td>0.0</td>\n",
       "      <td>0.0</td>\n",
       "      <td>NaN</td>\n",
       "      <td>skapidm01</td>\n",
       "    </tr>\n",
       "    <tr>\n",
       "      <th>734</th>\n",
       "      <td>572.0</td>\n",
       "      <td>Javonte Smart</td>\n",
       "      <td>24.0</td>\n",
       "      <td>PHI</td>\n",
       "      <td>PG</td>\n",
       "      <td>1.0</td>\n",
       "      <td>0.0</td>\n",
       "      <td>1.0</td>\n",
       "      <td>0.0</td>\n",
       "      <td>0.0</td>\n",
       "      <td>NaN</td>\n",
       "      <td>0.0</td>\n",
       "      <td>0.0</td>\n",
       "      <td>NaN</td>\n",
       "      <td>0.0</td>\n",
       "      <td>0.0</td>\n",
       "      <td>NaN</td>\n",
       "      <td>NaN</td>\n",
       "      <td>0.0</td>\n",
       "      <td>0.0</td>\n",
       "      <td>NaN</td>\n",
       "      <td>0.0</td>\n",
       "      <td>0.0</td>\n",
       "      <td>0.0</td>\n",
       "      <td>0.0</td>\n",
       "      <td>0.0</td>\n",
       "      <td>0.0</td>\n",
       "      <td>0.0</td>\n",
       "      <td>0.0</td>\n",
       "      <td>0.0</td>\n",
       "      <td>NaN</td>\n",
       "      <td>smartja01</td>\n",
       "    </tr>\n",
       "    <tr>\n",
       "      <th>735</th>\n",
       "      <td>NaN</td>\n",
       "      <td>League Average</td>\n",
       "      <td>NaN</td>\n",
       "      <td>NaN</td>\n",
       "      <td>NaN</td>\n",
       "      <td>NaN</td>\n",
       "      <td>NaN</td>\n",
       "      <td>NaN</td>\n",
       "      <td>NaN</td>\n",
       "      <td>NaN</td>\n",
       "      <td>0.474</td>\n",
       "      <td>NaN</td>\n",
       "      <td>NaN</td>\n",
       "      <td>0.366</td>\n",
       "      <td>NaN</td>\n",
       "      <td>NaN</td>\n",
       "      <td>0.545</td>\n",
       "      <td>0.547</td>\n",
       "      <td>NaN</td>\n",
       "      <td>NaN</td>\n",
       "      <td>0.784</td>\n",
       "      <td>NaN</td>\n",
       "      <td>NaN</td>\n",
       "      <td>NaN</td>\n",
       "      <td>NaN</td>\n",
       "      <td>NaN</td>\n",
       "      <td>NaN</td>\n",
       "      <td>NaN</td>\n",
       "      <td>NaN</td>\n",
       "      <td>NaN</td>\n",
       "      <td>NaN</td>\n",
       "      <td>-9999</td>\n",
       "    </tr>\n",
       "  </tbody>\n",
       "</table>\n",
       "<p>736 rows × 32 columns</p>\n",
       "</div>"
      ],
      "text/plain": [
       "        Rk                   Player   Age Team  Pos     G    GS    MP    FG  \\\n",
       "0      1.0              Joel Embiid  29.0  PHI    C  39.0  39.0  33.6  11.5   \n",
       "1      2.0              Luka Dončić  24.0  DAL   PG  70.0  70.0  37.5  11.5   \n",
       "2      3.0    Giannis Antetokounmpo  29.0  MIL   PF  73.0  73.0  35.2  11.5   \n",
       "3      4.0  Shai Gilgeous-Alexander  25.0  OKC   PG  75.0  75.0  34.0  10.6   \n",
       "4      5.0            Jalen Brunson  27.0  NYK   PG  77.0  77.0  35.4  10.3   \n",
       "..     ...                      ...   ...  ...  ...   ...   ...   ...   ...   \n",
       "731  569.0           Ron Harper Jr.  23.0  TOR   PF   1.0   0.0   4.0   0.0   \n",
       "732  570.0           Justin Jackson  28.0  MIN   SF   2.0   0.0   0.5   0.0   \n",
       "733  571.0        Dmytro Skapintsev  25.0  NYK    C   2.0   0.0   1.0   0.0   \n",
       "734  572.0            Javonte Smart  24.0  PHI   PG   1.0   0.0   1.0   0.0   \n",
       "735    NaN           League Average   NaN  NaN  NaN   NaN   NaN   NaN   NaN   \n",
       "\n",
       "      FGA    FG%   3P   3PA    3P%    2P   2PA    2P%   eFG%    FT   FTA  \\\n",
       "0    21.8  0.529  1.4   3.6  0.388  10.2  18.3  0.556  0.561  10.2  11.6   \n",
       "1    23.6  0.487  4.1  10.6  0.382   7.4  13.0  0.573  0.573   6.8   8.7   \n",
       "2    18.8  0.611  0.5   1.7  0.274  11.0  17.1  0.645  0.624   7.0  10.7   \n",
       "3    19.8  0.535  1.3   3.6  0.353   9.3  16.2  0.576  0.567   7.6   8.7   \n",
       "4    21.4  0.479  2.7   6.8  0.401   7.5  14.6  0.516  0.543   5.5   6.5   \n",
       "..    ...    ...  ...   ...    ...   ...   ...    ...    ...   ...   ...   \n",
       "731   0.0    NaN  0.0   0.0    NaN   0.0   0.0    NaN    NaN   0.0   0.0   \n",
       "732   0.0    NaN  0.0   0.0    NaN   0.0   0.0    NaN    NaN   0.0   0.0   \n",
       "733   0.5  0.000  0.0   0.0    NaN   0.0   0.5  0.000  0.000   0.0   0.0   \n",
       "734   0.0    NaN  0.0   0.0    NaN   0.0   0.0    NaN    NaN   0.0   0.0   \n",
       "735   NaN  0.474  NaN   NaN  0.366   NaN   NaN  0.545  0.547   NaN   NaN   \n",
       "\n",
       "       FT%  ORB  DRB   TRB  AST  STL  BLK  TOV   PF   PTS  \\\n",
       "0    0.883  2.4  8.6  11.0  5.6  1.2  1.7  3.8  2.9  34.7   \n",
       "1    0.786  0.8  8.4   9.2  9.8  1.4  0.5  4.0  2.1  33.9   \n",
       "2    0.657  2.7  8.8  11.5  6.5  1.2  1.1  3.4  2.9  30.4   \n",
       "3    0.874  0.9  4.7   5.5  6.2  2.0  0.9  2.2  2.5  30.1   \n",
       "4    0.847  0.6  3.1   3.6  6.7  0.9  0.2  2.4  1.9  28.7   \n",
       "..     ...  ...  ...   ...  ...  ...  ...  ...  ...   ...   \n",
       "731    NaN  0.0  0.0   0.0  1.0  0.0  0.0  0.0  2.0   0.0   \n",
       "732    NaN  0.0  0.0   0.0  0.0  0.0  0.0  0.0  0.0   0.0   \n",
       "733    NaN  0.0  0.0   0.0  0.0  0.0  0.0  0.0  0.0   0.0   \n",
       "734    NaN  0.0  0.0   0.0  0.0  0.0  0.0  0.0  0.0   0.0   \n",
       "735  0.784  NaN  NaN   NaN  NaN  NaN  NaN  NaN  NaN   NaN   \n",
       "\n",
       "                       Awards Player-additional  \n",
       "0                          AS         embiijo01  \n",
       "1           MVP-3CPOY-6ASNBA1         doncilu01  \n",
       "2    MVP-4DPOY-9CPOY-12ASNBA1         antetgi01  \n",
       "3     MVP-2DPOY-7CPOY-3ASNBA1         gilgesh01  \n",
       "4           MVP-5CPOY-5ASNBA2         brunsja01  \n",
       "..                        ...               ...  \n",
       "731                       NaN         harpero02  \n",
       "732                       NaN         jacksju01  \n",
       "733                       NaN         skapidm01  \n",
       "734                       NaN         smartja01  \n",
       "735                       NaN             -9999  \n",
       "\n",
       "[736 rows x 32 columns]"
      ]
     },
     "execution_count": 3,
     "metadata": {},
     "output_type": "execute_result"
    }
   ],
   "source": [
    "df"
   ]
  },
  {
   "cell_type": "code",
   "execution_count": null,
   "id": "f54e7391-bc98-4853-9642-bc59a007707f",
   "metadata": {},
   "outputs": [],
   "source": [
    "df = df.drop(['Rk', 'GS', 'Awards', 'Player-additional'])"
   ]
  },
  {
   "cell_type": "code",
   "execution_count": null,
   "id": "07fae32f",
   "metadata": {},
   "outputs": [],
   "source": [
    "df_reg_player_stats = pd.concat([df_REG22_23, df_REG21_22, df_REG20_21, df_REG19_20, df_REG18_19, df_REG17_18, df_REG16_17, df_REG15_16, df_REG14_15, df_REG13_14, df_REG12_13])"
   ]
  },
  {
   "cell_type": "code",
   "execution_count": null,
   "id": "68549d31",
   "metadata": {},
   "outputs": [],
   "source": [
    "df_reg_player_stats['season_type'] = 'REG'"
   ]
  },
  {
   "cell_type": "code",
   "execution_count": null,
   "id": "04131c37",
   "metadata": {},
   "outputs": [],
   "source": [
    "df_players_adv = pd.concat([df_reg_player_stats, df_playoffs_player_stats])\n"
   ]
  },
  {
   "cell_type": "code",
   "execution_count": null,
   "id": "4f91a045",
   "metadata": {},
   "outputs": [],
   "source": [
    "df_players"
   ]
  },
  {
   "cell_type": "code",
   "execution_count": null,
   "id": "1403d7a1",
   "metadata": {},
   "outputs": [],
   "source": [
    "df_players_adv"
   ]
  },
  {
   "cell_type": "code",
   "execution_count": null,
   "id": "264aec47",
   "metadata": {},
   "outputs": [],
   "source": [
    "df_players_adv.rename(columns = {'PLAYER' : 'Player'}, inplace = True)"
   ]
  },
  {
   "cell_type": "code",
   "execution_count": null,
   "id": "5f2c1498",
   "metadata": {},
   "outputs": [],
   "source": [
    "del df_players_adv['TEAM']\n",
    "del df_players_adv['AGE']\n",
    "del df_players_adv['GP']\n",
    "del df_players_adv['W']\n",
    "del df_players_adv['L']\n",
    "del df_players_adv['Unnamed: 0']\n"
   ]
  },
  {
   "cell_type": "code",
   "execution_count": null,
   "id": "36e17c80",
   "metadata": {},
   "outputs": [],
   "source": [
    "df_players_adv"
   ]
  },
  {
   "cell_type": "code",
   "execution_count": null,
   "id": "d8c5dee0",
   "metadata": {},
   "outputs": [],
   "source": [
    "df_players_stats = pd.merge(df_players, df_players_adv, on = [\"Player\", \"season\", \"season_type\"])"
   ]
  },
  {
   "cell_type": "code",
   "execution_count": null,
   "id": "b7213393",
   "metadata": {},
   "outputs": [],
   "source": [
    "df_players_stats"
   ]
  },
  {
   "cell_type": "code",
   "execution_count": null,
   "id": "6333f1d8",
   "metadata": {},
   "outputs": [],
   "source": [
    "raptor = pd.read_csv(\"modern_RAPTOR_by_team.csv\")"
   ]
  },
  {
   "cell_type": "code",
   "execution_count": null,
   "id": "76f0108e",
   "metadata": {},
   "outputs": [],
   "source": [
    "raptor"
   ]
  },
  {
   "cell_type": "code",
   "execution_count": null,
   "id": "3952e10d",
   "metadata": {},
   "outputs": [],
   "source": [
    "curraptor = pd.read_csv(\"latest_RAPTOR_by_team.csv\")"
   ]
  },
  {
   "cell_type": "code",
   "execution_count": null,
   "id": "0f4a8a85",
   "metadata": {},
   "outputs": [],
   "source": [
    "raptor = pd.concat([raptor, curraptor])"
   ]
  },
  {
   "cell_type": "code",
   "execution_count": null,
   "id": "931c8241",
   "metadata": {},
   "outputs": [],
   "source": [
    "raptor"
   ]
  },
  {
   "cell_type": "code",
   "execution_count": null,
   "id": "59f0a1e1",
   "metadata": {},
   "outputs": [],
   "source": [
    "del raptor['team']\n"
   ]
  },
  {
   "cell_type": "code",
   "execution_count": null,
   "id": "91fd0f96",
   "metadata": {},
   "outputs": [],
   "source": [
    "raptor.rename(columns = {'player_name' : 'Player'}, inplace = True)"
   ]
  },
  {
   "cell_type": "code",
   "execution_count": null,
   "id": "091498d8",
   "metadata": {},
   "outputs": [],
   "source": [
    "raptor['season'] = raptor['season'].replace(2014, '2013-14')\n",
    "raptor['season'] = raptor['season'].replace(2015, '2014-15')\n",
    "raptor['season'] = raptor['season'].replace(2016, '2015-16')\n",
    "raptor['season'] = raptor['season'].replace(2017, '2016-17')\n",
    "raptor['season'] = raptor['season'].replace(2018, '2017-18')\n",
    "raptor['season'] = raptor['season'].replace(2019, '2018-19')\n",
    "raptor['season'] = raptor['season'].replace(2020, '2019-20')\n",
    "raptor['season'] = raptor['season'].replace(2021, '2020-21')\n",
    "raptor['season'] = raptor['season'].replace(2022, '2021-22')\n",
    "raptor['season'] = raptor['season'].replace(2023, '2022-23')\n",
    "raptor['season_type'] = raptor['season_type'].replace('RS', 'REG')"
   ]
  },
  {
   "cell_type": "code",
   "execution_count": null,
   "id": "b2aedb82",
   "metadata": {},
   "outputs": [],
   "source": [
    "raptor"
   ]
  },
  {
   "cell_type": "code",
   "execution_count": null,
   "id": "4e9a72f2",
   "metadata": {},
   "outputs": [],
   "source": [
    "df_players_stats = pd.merge(df_players_stats, raptor, on = [\"Player\", \"season\", \"season_type\"])"
   ]
  },
  {
   "cell_type": "code",
   "execution_count": null,
   "id": "d9cf1e09",
   "metadata": {},
   "outputs": [],
   "source": [
    "df_players_stats"
   ]
  },
  {
   "cell_type": "code",
   "execution_count": null,
   "id": "b9d30b2f",
   "metadata": {},
   "outputs": [],
   "source": [
    "season_adv = pd.read_csv(\"/home/rohan/python-projects/jupyter/BasketballProject/season15-16adv.txt\")"
   ]
  },
  {
   "cell_type": "code",
   "execution_count": null,
   "id": "2bc40e24",
   "metadata": {},
   "outputs": [],
   "source": [
    "season_avg = pd.read_csv(\"/home/rohan/python-projects/jupyter/BasketballProject/season15-16.txt\")"
   ]
  },
  {
   "cell_type": "code",
   "execution_count": null,
   "id": "6195aedb",
   "metadata": {},
   "outputs": [],
   "source": [
    "season_adv.drop(['Rk', 'Pos', 'Age', 'G', 'Unnamed: 19', 'OWS', 'DWS', 'WS/48', 'Unnamed: 24', 'OBPM', 'DBPM', 'VORP','WS','Player-additional'], axis = 1, inplace = True)"
   ]
  },
  {
   "cell_type": "code",
   "execution_count": null,
   "id": "b17a293d",
   "metadata": {},
   "outputs": [],
   "source": [
    "season = pd.merge(season_adv, season_avg, on = ['Player'])"
   ]
  },
  {
   "cell_type": "code",
   "execution_count": null,
   "id": "2f75c3c6",
   "metadata": {},
   "outputs": [],
   "source": [
    "df_players_stats = df_players_stats[df_players_stats['season_type'] == 'REG']\n",
    "df_players_stats = df_players_stats[df_players_stats['season'] == '2015-16']"
   ]
  },
  {
   "cell_type": "code",
   "execution_count": null,
   "id": "9a20a3bf",
   "metadata": {},
   "outputs": [],
   "source": [
    "df_players = df_players_stats[['Player', 'OFFRTG', 'DEFRTG', '+/-']]"
   ]
  },
  {
   "cell_type": "code",
   "execution_count": null,
   "id": "a8bf7688",
   "metadata": {},
   "outputs": [],
   "source": [
    "df_players"
   ]
  },
  {
   "cell_type": "code",
   "execution_count": null,
   "id": "57cfe7f5",
   "metadata": {},
   "outputs": [],
   "source": [
    "season_adv"
   ]
  },
  {
   "cell_type": "code",
   "execution_count": null,
   "id": "e5080636",
   "metadata": {},
   "outputs": [],
   "source": [
    "season_avg.drop(['Rk', 'Pos', 'Age', 'G', 'GS', '2PA', '2P', '2P%', 'Player-additional'], axis = 1, inplace = True)"
   ]
  },
  {
   "cell_type": "code",
   "execution_count": null,
   "id": "f4b7a331",
   "metadata": {},
   "outputs": [],
   "source": [
    "season_avg"
   ]
  },
  {
   "cell_type": "code",
   "execution_count": null,
   "id": "5a337401",
   "metadata": {},
   "outputs": [],
   "source": [
    "df = pd.merge(season_avg, season_adv, on = ['Player', 'Tm'])"
   ]
  },
  {
   "cell_type": "code",
   "execution_count": null,
   "id": "f5672c5d",
   "metadata": {},
   "outputs": [],
   "source": [
    "df = pd.merge(df, df_players, on = ['Player'])"
   ]
  },
  {
   "cell_type": "code",
   "execution_count": null,
   "id": "ff2e958c",
   "metadata": {},
   "outputs": [],
   "source": [
    "df.drop(['MP_y', 'PER'], axis = 1, inplace = True)"
   ]
  },
  {
   "cell_type": "code",
   "execution_count": null,
   "id": "aadd3555",
   "metadata": {},
   "outputs": [],
   "source": [
    "df"
   ]
  },
  {
   "cell_type": "code",
   "execution_count": null,
   "id": "415bf7af",
   "metadata": {},
   "outputs": [],
   "source": [
    "df.rename(columns = {'MP_x' : 'MP'}, inplace = True)"
   ]
  },
  {
   "cell_type": "code",
   "execution_count": null,
   "id": "bf6e0e07",
   "metadata": {},
   "outputs": [],
   "source": [
    "pd.DataFrame.to_excel(df, \"totalstats15-16.xlsx\")"
   ]
  },
  {
   "cell_type": "code",
   "execution_count": null,
   "id": "3153143c",
   "metadata": {},
   "outputs": [],
   "source": [
    "df15_16 = pd.read_csv(\"/home/rohan/python-projects/jupyter/BasketballProject/standings15-16.txt\")"
   ]
  },
  {
   "cell_type": "code",
   "execution_count": null,
   "id": "25335818",
   "metadata": {},
   "outputs": [],
   "source": [
    "df15_16"
   ]
  },
  {
   "cell_type": "code",
   "execution_count": null,
   "id": "000548e5",
   "metadata": {},
   "outputs": [],
   "source": [
    "df15_16 = df15_16['Unnamed: 1']"
   ]
  },
  {
   "cell_type": "code",
   "execution_count": null,
   "id": "5e82a6ad",
   "metadata": {},
   "outputs": [],
   "source": [
    "df15_16 = list(df15_16)\n",
    "df15_16"
   ]
  },
  {
   "cell_type": "code",
   "execution_count": null,
   "id": "6c49a284",
   "metadata": {},
   "outputs": [],
   "source": [
    "df15_16.remove('Team')"
   ]
  },
  {
   "cell_type": "code",
   "execution_count": null,
   "id": "d55337d7",
   "metadata": {},
   "outputs": [],
   "source": [
    "df15_16 = ['BRK' if item == 'Brooklyn Nets' else item for item in df15_16]\n",
    "df15_16 = ['CHO' if item == 'Charlotte Hornets' else item for item in df15_16]\n",
    "df15_16 = ['PHO' if item == 'Phoenix Suns' else item for item in df15_16]\n",
    "df15_16 = ['BOS' if item == 'Boston Celtics' else item for item in df15_16]\n",
    "df15_16 = ['MIL' if item == 'Milwaukee Bucks' else item for item in df15_16]\n",
    "df15_16 = ['DEN' if item == 'Denver Nuggets' else item for item in df15_16]\n",
    "df15_16 = ['PHI' if item == 'Philadelphia 76ers' else item for item in df15_16]\n",
    "df15_16 = ['CLE' if item == 'Cleveland Cavaliers' else item for item in df15_16]\n",
    "df15_16 = ['MEM' if item == 'Memphis Grizzlies' else item for item in df15_16]\n",
    "df15_16 = ['SAC' if item == 'Sacramento Kings' else item for item in df15_16]\n",
    "df15_16 = ['NYK' if item == 'New York Knicks' else item for item in df15_16]\n",
    "df15_16 = ['GSW' if item == 'Golden State Warriors' else item for item in df15_16]\n",
    "df15_16 = ['LAC' if item == 'Los Angeles Clippers' else item for item in df15_16]\n",
    "df15_16 = ['LAL' if item == 'Los Angeles Lakers' else item for item in df15_16]\n",
    "df15_16 = ['MIA' if item == 'Miami Heat' else item for item in df15_16]\n",
    "df15_16 = ['NOP' if item == 'New Orleans Pelicans' else item for item in df15_16]\n",
    "df15_16 = ['OKC' if item == 'Oklahoma City Thunder' else item for item in df15_16]\n",
    "df15_16 = ['MIN' if item == 'Minnesota Timberwolves' else item for item in df15_16]\n",
    "df15_16 = ['CHI' if item == 'Chicago Bulls' else item for item in df15_16]\n",
    "df15_16 = ['TOR' if item == 'Toronto Raptors' else item for item in df15_16]\n",
    "df15_16 = ['ATL' if item == 'Atlanta Hawks' else item for item in df15_16]\n",
    "df15_16 = ['DAL' if item == 'Dallas Mavericks' else item for item in df15_16]\n",
    "df15_16 = ['UTA' if item == 'Utah Jazz' else item for item in df15_16]\n",
    "df15_16 = ['ORL' if item == 'Orlando Magic' else item for item in df15_16]\n",
    "df15_16 = ['WAS' if item == 'Washington Wizards' else item for item in df15_16]\n",
    "df15_16 = ['IND' if item == 'Indiana Pacers' else item for item in df15_16]\n",
    "df15_16 = ['POR' if item == 'Portland Trail Blazers' else item for item in df15_16]\n",
    "df15_16 = ['HOU' if item == 'Houston Rockets' else item for item in df15_16]\n",
    "df15_16 = ['SAS' if item == 'San Antonio Spurs' else item for item in df15_16]\n",
    "df15_16 = ['DET' if item == 'Detroit Pistons' else item for item in df15_16]"
   ]
  },
  {
   "cell_type": "code",
   "execution_count": null,
   "id": "3a4ad97e",
   "metadata": {},
   "outputs": [],
   "source": [
    "with open('powerrankings15-16.pkl', 'wb') as f:  # open a text file\n",
    "    pickle.dump(df15_16, f)\n",
    "    f.close()"
   ]
  },
  {
   "cell_type": "code",
   "execution_count": null,
   "id": "fb845baf",
   "metadata": {},
   "outputs": [],
   "source": []
  }
 ],
 "metadata": {
  "kernelspec": {
   "display_name": "Python 3 (ipykernel)",
   "language": "python",
   "name": "python3"
  },
  "language_info": {
   "codemirror_mode": {
    "name": "ipython",
    "version": 3
   },
   "file_extension": ".py",
   "mimetype": "text/x-python",
   "name": "python",
   "nbconvert_exporter": "python",
   "pygments_lexer": "ipython3",
   "version": "3.12.11"
  }
 },
 "nbformat": 4,
 "nbformat_minor": 5
}
